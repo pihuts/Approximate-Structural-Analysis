{
 "cells": [
  {
   "cell_type": "code",
   "execution_count": 1,
   "id": "5536f590-9a1a-4798-bbe1-db9710f35856",
   "metadata": {},
   "outputs": [],
   "source": [
    "import handcalcs.render\n",
    "import forallpeople\n",
    "from math import pi\n",
    "forallpeople.environment(\"structural\",top_level=True)\n",
    "W_w = 1\n",
    "W_d = 1\n",
    "gamma_water =  (9.807 * kN)/m**3\n",
    "Water_TankDiameter = 2 * m\n",
    "Water_TankCapacity = 3 * m**3\n",
    "\n"
   ]
  },
  {
   "cell_type": "markdown",
   "id": "c67977c9-b4b6-43a8-9237-17522b73d678",
   "metadata": {},
   "source": [
    "## Water Tank Properties"
   ]
  },
  {
   "cell_type": "code",
   "execution_count": 2,
   "id": "46a8bae4-f9a8-4966-81d8-8206b2ac6567",
   "metadata": {},
   "outputs": [
    {
     "data": {
      "text/latex": [
       "\\[\n",
       "\\begin{aligned}\n",
       "\\gamma_{water} &= 9.81\\ \\mathrm{kN/m³} \\; \n",
       " &\\mathrm{Water}_{TankDiameter} &= 2.00\\ \\mathrm{m} \\; \n",
       " &\\mathrm{Water}_{TankCapacity} &= 3.00\\ \\mathrm{m}^{3} \\; \n",
       "\\\\[10pt]\n",
       "\\end{aligned}\n",
       "\\]"
      ],
      "text/plain": [
       "<IPython.core.display.Latex object>"
      ]
     },
     "metadata": {},
     "output_type": "display_data"
    }
   ],
   "source": [
    "%%render params 2 \n",
    "gamma_water = gamma_water\n",
    "Water_TankDiameter = Water_TankDiameter\n",
    "Water_TankCapacity = Water_TankCapacity"
   ]
  },
  {
   "cell_type": "markdown",
   "id": "58be39d9-b132-4843-834b-efd3f415fdb4",
   "metadata": {},
   "source": [
    "## Water Tank Area Load Computation"
   ]
  },
  {
   "cell_type": "code",
   "execution_count": 3,
   "id": "29a6530f-dc7d-4bd4-8f5a-fd8ec24fe6fb",
   "metadata": {},
   "outputs": [
    {
     "data": {
      "text/latex": [
       "\\[\n",
       "\\begin{aligned}\n",
       "\\mathrm{Water}_{TankBaseArea} &= \\pi \\cdot \\frac{ \\left( \\mathrm{Water}_{TankDiameter} \\right) ^{ 2 } }{ 4 }  = 3.14 \\cdot \\frac{ \\left( 2.00\\ \\mathrm{m} \\right) ^{ 2 } }{ 4 } &= 3.14\\ \\mathrm{m}^{2}  \n",
       "\\\\[10pt]\n",
       "\\mathrm{Water}_{TankLoad} &= \\gamma_{water} \\cdot \\mathrm{Water}_{TankCapacity}  = 9.81\\ \\mathrm{kN/m³} \\cdot 3.00\\ \\mathrm{m}^{3} &= 29.42\\ \\mathrm{kN}  \n",
       "\\\\[10pt]\n",
       "\\mathrm{Uniform}_{load} &= \\frac{ \\mathrm{Water}_{TankLoad} }{ \\mathrm{Water}_{TankBaseArea} }  = \\frac{ 29.42\\ \\mathrm{kN} }{ 3.14\\ \\mathrm{m}^{2} } &= 9.36\\ \\mathrm{kPa}  \n",
       "\\end{aligned}\n",
       "\\]"
      ],
      "text/plain": [
       "<IPython.core.display.Latex object>"
      ]
     },
     "metadata": {},
     "output_type": "display_data"
    }
   ],
   "source": [
    "%%render short 2\n",
    "\n",
    "Water_TankBaseArea = pi * (Water_TankDiameter ** 2)/4\n",
    "Water_TankLoad = gamma_water*Water_TankCapacity\n",
    "Uniform_load = Water_TankLoad/Water_TankBaseArea"
   ]
  },
  {
   "cell_type": "code",
   "execution_count": null,
   "id": "dae89232-a947-439c-8e02-a119b520e090",
   "metadata": {},
   "outputs": [],
   "source": []
  }
 ],
 "metadata": {
  "kernelspec": {
   "display_name": "Python 3",
   "language": "python",
   "name": "python3"
  },
  "language_info": {
   "codemirror_mode": {
    "name": "ipython",
    "version": 3
   },
   "file_extension": ".py",
   "mimetype": "text/x-python",
   "name": "python",
   "nbconvert_exporter": "python",
   "pygments_lexer": "ipython3",
   "version": "3.9.7"
  },
  "vscode": {
   "interpreter": {
    "hash": "8b98d035a1101227a5257d390670f13bae3028b56b093ded7111cc4ece5748cc"
   }
  }
 },
 "nbformat": 4,
 "nbformat_minor": 5
}
